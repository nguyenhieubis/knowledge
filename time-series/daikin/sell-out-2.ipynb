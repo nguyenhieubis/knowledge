{
 "cells": [
  {
   "cell_type": "code",
   "execution_count": 1,
   "metadata": {},
   "outputs": [],
   "source": [
    "import numpy as np\n",
    "import pandas as pd\n",
    "import sys, os, warnings, glob\n",
    "\n",
    "# Get the parent directory\n",
    "parent_dir = os.path.dirname(os.getcwd())\n",
    "# Add the parent directory to sys.path\n",
    "sys.path.append(parent_dir)\n",
    "\n",
    "from utils import *\n",
    "from processts import *\n",
    "\n",
    "warnings.filterwarnings('ignore')"
   ]
  },
  {
   "cell_type": "code",
   "execution_count": 2,
   "metadata": {},
   "outputs": [],
   "source": [
    "dir_ = 'D:/Github/knowledge/time-series/data/daikin/sell-out/'\n",
    "\n",
    "raw_data_dir = dir_\n",
    "processed_data_dir = dir_+'processed/'\n",
    "\n",
    "os.makedirs(raw_data_dir, exist_ok=True)\n",
    "os.makedirs(processed_data_dir, exist_ok=True)\n",
    "\n",
    "TARGET_COL = 'qty'\n",
    "DATE_COL = 'date'\n",
    "\n",
    "group_columns = ['item','location_name']\n",
    "\n",
    "COMMON_LAGS = [26,39,52,78,104]\n",
    "LAGS = list(range(4,25))\n",
    "ROLL_LAGS = [4,8,12,16,20,26,39,52]\n",
    "ROLL_WINDOWS = [4,8,12,16,26,39,52]\n",
    "EWM_LAGS = [4,8,12,16,20,26,39,52]\n",
    "EWM_ALPHAS = [0.99, 0.95, 0.9, 0.8, 0.5, 0.2, 0.1]\n",
    "ENC_COLS = [\n",
    "    ['item'],\n",
    "    ['location_name'],\n",
    "    ['item','location_name'],\n",
    "]"
   ]
  },
  {
   "cell_type": "code",
   "execution_count": 3,
   "metadata": {},
   "outputs": [],
   "source": [
    "sellout_df = pd.read_parquet(f'{processed_data_dir}sellout.parquet')\n",
    "\n",
    "sellout_df[DATE_COL] = sellout_df[DATE_COL].dt.to_period('W-MON').dt.to_timestamp()\n",
    "sellout_df = sellout_df.groupby(group_columns+[DATE_COL])[TARGET_COL].agg(['sum']).rename(columns={'sum': TARGET_COL}).reset_index()"
   ]
  },
  {
   "cell_type": "code",
   "execution_count": 4,
   "metadata": {},
   "outputs": [],
   "source": [
    "date_df = pd.read_parquet(f'{processed_data_dir}date.parquet')\n",
    "date_df['is_holiday'] = date_df['holiday'].apply(lambda x: 1 if x else 0)\n",
    "date_df['is_wknd'] = (date_df[DATE_COL].dt.weekday >= 5).astype(int)\n",
    "date_df['is_offline'] = np.maximum(date_df['is_holiday'], date_df['is_wknd'])\n",
    "date_df[DATE_COL] = date_df[DATE_COL].dt.to_period('W-MON').dt.to_timestamp()\n",
    "date_df = date_df.groupby([DATE_COL])[['is_holiday','is_offline']].agg(['sum']).reset_index()\n",
    "date_df.columns = [DATE_COL] + ['is_holiday','is_offline']\n",
    "date_df['year'] = date_df[DATE_COL].dt.year\n",
    "date_df['week_of_year'] = date_df[DATE_COL].dt.isocalendar().week.astype(np.int8)\n",
    "# date_df"
   ]
  },
  {
   "cell_type": "code",
   "execution_count": 5,
   "metadata": {},
   "outputs": [],
   "source": [
    "group_df = sellout_df[group_columns].drop_duplicates()\n",
    "\n",
    "group_df = group_df.merge(date_df, how='cross')\n",
    "\n",
    "sellout_df = Util.merge_by_concat(group_df, sellout_df, group_columns+[DATE_COL])\n",
    "\n",
    "\n",
    "release_df = sellout_df[sellout_df[TARGET_COL]>0].groupby(group_columns)[DATE_COL].agg(['min']).reset_index()\n",
    "release_df.columns = group_columns + ['release']\n",
    "sellout_df = Util.merge_by_concat(sellout_df, release_df, group_columns)\n",
    "del release_df\n",
    "\n",
    "idx = (sellout_df[DATE_COL]>=sellout_df['release']) & (sellout_df[DATE_COL]<='2024-03-31')\n",
    "sellout_df = sellout_df[idx]\n",
    "sellout_df[TARGET_COL] = sellout_df[TARGET_COL].fillna(0)\n",
    "sellout_df['release'] = (sellout_df['date'] - sellout_df['release']).dt.days / 7\n",
    "sellout_df = sellout_df.sort_values(group_columns+[DATE_COL])\n",
    "sellout_df = sellout_df.reset_index(drop=True)"
   ]
  },
  {
   "cell_type": "code",
   "execution_count": null,
   "metadata": {},
   "outputs": [
    {
     "name": "stderr",
     "output_type": "stream",
     "text": [
      "2024-10-26 13:21:16,991\tINFO\tgenerate lag features\n",
      "2024-10-26 13:21:28,202\tINFO\tgenerate roll features\n",
      "2024-10-26 13:21:28,202\tINFO\tShifting period: 4\n"
     ]
    },
    {
     "name": "stdout",
     "output_type": "stream",
     "text": [
      "Mem. usage decreased to 1103.76 MB (71.9% reduction)\n"
     ]
    },
    {
     "name": "stderr",
     "output_type": "stream",
     "text": [
      "2024-10-26 13:24:15,540\tINFO\tShifting period: 8\n"
     ]
    }
   ],
   "source": [
    "pp = PreProcessing('daikin_sellout_log','D:/Github/knowledge/time-series/data/logs')\n",
    "\n",
    "category_cols = group_columns + ['week_of_year']\n",
    "\n",
    "sellout_df = pp.generate_grid_category(sellout_df, category_cols)\n",
    "# sellout_df = pp.generate_grid_date(sellout_df, DATE_COL)\n",
    "# df = pp.generate_grid_price(df, group_columns, PRICE_COL)\n",
    "sellout_df = pp.generate_lag_feature(sellout_df, group_columns, TARGET_COL, LAGS + COMMON_LAGS)\n",
    "sellout_df = pp.generate_roll_feature(sellout_df, group_columns, TARGET_COL, ROLL_WINDOWS, ROLL_LAGS)\n",
    "sellout_df = pp.generate_ewm_feature(sellout_df, group_columns, TARGET_COL, EWM_ALPHAS, EWM_LAGS)\n",
    "sellout_df = pp.generate_target_encoding_feature(sellout_df, TARGET_COL, ENC_COLS)\n",
    "\n",
    "sellout_df.to_csv(f'{processed_data_dir}features_data.csv', index=False, header=True)"
   ]
  }
 ],
 "metadata": {
  "kernelspec": {
   "display_name": "Python 3",
   "language": "python",
   "name": "python3"
  },
  "language_info": {
   "codemirror_mode": {
    "name": "ipython",
    "version": 3
   },
   "file_extension": ".py",
   "mimetype": "text/x-python",
   "name": "python",
   "nbconvert_exporter": "python",
   "pygments_lexer": "ipython3",
   "version": "3.10.11"
  }
 },
 "nbformat": 4,
 "nbformat_minor": 2
}
