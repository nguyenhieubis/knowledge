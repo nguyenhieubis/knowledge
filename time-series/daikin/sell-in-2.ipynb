{
 "cells": [
  {
   "cell_type": "code",
   "execution_count": 1,
   "metadata": {},
   "outputs": [],
   "source": [
    "import numpy as np\n",
    "import pandas as pd\n",
    "import sys, os, warnings, glob\n",
    "\n",
    "# Get the parent directory\n",
    "parent_dir = os.path.dirname(os.getcwd())\n",
    "# Add the parent directory to sys.path\n",
    "sys.path.append(parent_dir)\n",
    "\n",
    "from utils import *\n",
    "from processts import *\n",
    "\n",
    "warnings.filterwarnings('ignore')"
   ]
  },
  {
   "cell_type": "code",
   "execution_count": 2,
   "metadata": {},
   "outputs": [],
   "source": [
    "dir_ = 'D:/Github/knowledge/time-series/data/daikin/sell-in/'\n",
    "\n",
    "raw_data_dir = dir_\n",
    "processed_data_dir = dir_+'processed/'\n",
    "\n",
    "os.makedirs(raw_data_dir, exist_ok=True)\n",
    "os.makedirs(processed_data_dir, exist_ok=True)\n",
    "\n",
    "TARGET_COL = 'qty'\n",
    "DATE_COL = 'date'\n",
    "\n",
    "group_columns = ['item','department']\n",
    "\n",
    "COMMON_LAGS = [26,39,52,78,104]\n",
    "LAGS = list(range(4,25))\n",
    "ROLL_LAGS = [4,8,12,16,20,26,39,52]\n",
    "ROLL_WINDOWS = [4,8,12,16,26,39,52]\n",
    "EWM_LAGS = [4,8,12,16,20,26,39,52]\n",
    "EWM_ALPHAS = [0.99, 0.95, 0.9, 0.8, 0.5, 0.2, 0.1]\n",
    "ENC_COLS = [\n",
    "    ['item'],\n",
    "    ['department'],\n",
    "    ['item','department'],\n",
    "]"
   ]
  },
  {
   "cell_type": "code",
   "execution_count": 3,
   "metadata": {},
   "outputs": [],
   "source": [
    "sellin_df = pd.read_parquet(f'{processed_data_dir}sellin.parquet')\n",
    "\n",
    "sellin_df[DATE_COL] = sellin_df[DATE_COL].dt.to_period('W-MON').dt.to_timestamp()\n",
    "sellin_df = sellin_df.groupby(group_columns+[DATE_COL])[TARGET_COL].agg(['sum']).rename(columns={'sum': TARGET_COL}).reset_index()"
   ]
  },
  {
   "cell_type": "code",
   "execution_count": 4,
   "metadata": {},
   "outputs": [],
   "source": [
    "date_df = pd.read_parquet(f'{processed_data_dir}date.parquet')\n",
    "date_df['is_holiday'] = date_df['holiday'].apply(lambda x: 1 if x else 0)\n",
    "date_df['is_wknd'] = (date_df[DATE_COL].dt.weekday >= 5).astype(int)\n",
    "date_df['is_offline'] = np.maximum(date_df['is_holiday'], date_df['is_wknd'])\n",
    "date_df[DATE_COL] = date_df[DATE_COL].dt.to_period('W-MON').dt.to_timestamp()\n",
    "date_df = date_df.groupby([DATE_COL])[['is_holiday','is_offline']].agg(['sum']).reset_index()\n",
    "date_df.columns = [DATE_COL] + ['is_holiday','is_offline']\n",
    "date_df['year'] = date_df[DATE_COL].dt.year\n",
    "date_df['week_of_year'] = date_df[DATE_COL].dt.isocalendar().week.astype(np.int8)\n",
    "# date_df"
   ]
  },
  {
   "cell_type": "code",
   "execution_count": 5,
   "metadata": {},
   "outputs": [],
   "source": [
    "group_df = sellin_df[group_columns].drop_duplicates()\n",
    "\n",
    "group_df = group_df.merge(date_df, how='cross')\n",
    "\n",
    "sellin_df = Util.merge_by_concat(group_df, sellin_df, group_columns+[DATE_COL])\n",
    "\n",
    "\n",
    "release_df = sellin_df[sellin_df[TARGET_COL]>0].groupby(group_columns)[DATE_COL].agg(['min']).reset_index()\n",
    "release_df.columns = group_columns + ['release']\n",
    "sellin_df = Util.merge_by_concat(sellin_df, release_df, group_columns)\n",
    "del release_df\n",
    "\n",
    "idx = (sellin_df[DATE_COL]>=sellin_df['release']) & (sellin_df[DATE_COL]<='2024-08-31')\n",
    "sellin_df = sellin_df[idx]\n",
    "sellin_df[TARGET_COL] = sellin_df[TARGET_COL].fillna(0)\n",
    "sellin_df['release'] = (sellin_df['date'] - sellin_df['release']).dt.days / 7\n",
    "sellin_df = sellin_df.sort_values(group_columns+[DATE_COL])\n",
    "sellin_df = sellin_df.reset_index(drop=True)"
   ]
  },
  {
   "cell_type": "code",
   "execution_count": 6,
   "metadata": {},
   "outputs": [
    {
     "name": "stderr",
     "output_type": "stream",
     "text": [
      "2024-11-06 13:18:38,671\tINFO\tgenerate lag features\n",
      "2024-11-06 13:18:38,801\tINFO\tgenerate roll features\n",
      "2024-11-06 13:18:38,802\tINFO\tShifting period: 4\n"
     ]
    },
    {
     "name": "stdout",
     "output_type": "stream",
     "text": [
      "Mem. usage decreased to 16.88 MB (71.8% reduction)\n"
     ]
    },
    {
     "name": "stderr",
     "output_type": "stream",
     "text": [
      "2024-11-06 13:18:40,609\tINFO\tShifting period: 8\n",
      "2024-11-06 13:18:42,337\tINFO\tShifting period: 12\n",
      "2024-11-06 13:18:44,091\tINFO\tShifting period: 16\n",
      "2024-11-06 13:18:45,836\tINFO\tShifting period: 20\n",
      "2024-11-06 13:18:47,611\tINFO\tShifting period: 26\n",
      "2024-11-06 13:18:49,384\tINFO\tShifting period: 39\n",
      "2024-11-06 13:18:51,133\tINFO\tShifting period: 52\n",
      "2024-11-06 13:18:53,314\tINFO\tgenerate exponentially weighted moving features\n",
      "2024-11-06 13:18:53,326\tINFO\tShifting period:4\n"
     ]
    },
    {
     "name": "stdout",
     "output_type": "stream",
     "text": [
      "Mem. usage decreased to 69.31 MB (69.4% reduction)\n"
     ]
    },
    {
     "name": "stderr",
     "output_type": "stream",
     "text": [
      "2024-11-06 13:18:54,178\tINFO\tShifting period:8\n",
      "2024-11-06 13:18:54,947\tINFO\tShifting period:12\n",
      "2024-11-06 13:18:55,760\tINFO\tShifting period:16\n",
      "2024-11-06 13:18:56,518\tINFO\tShifting period:20\n",
      "2024-11-06 13:18:57,347\tINFO\tShifting period:26\n",
      "2024-11-06 13:18:58,117\tINFO\tShifting period:39\n",
      "2024-11-06 13:18:58,943\tINFO\tShifting period:52\n",
      "2024-11-06 13:19:00,328\tINFO\tgenerate target encoding feature\n",
      "2024-11-06 13:19:00,329\tINFO\tencoding\t['item']\n",
      "2024-11-06 13:19:00,341\tINFO\tencoding\t['department']\n",
      "2024-11-06 13:19:00,354\tINFO\tencoding\t['item', 'department']\n"
     ]
    },
    {
     "name": "stdout",
     "output_type": "stream",
     "text": [
      "Mem. usage decreased to 95.52 MB (45.2% reduction)\n",
      "Mem. usage decreased to 98.33 MB (5.4% reduction)\n"
     ]
    }
   ],
   "source": [
    "pp = PreProcessing('daikin_sellin_log','D:/Github/knowledge/time-series/data/logs')\n",
    "\n",
    "category_cols = group_columns + ['week_of_year']\n",
    "\n",
    "sellin_df = pp.generate_grid_category(sellin_df, category_cols)\n",
    "# sellout_df = pp.generate_grid_date(sellout_df, DATE_COL)\n",
    "# df = pp.generate_grid_price(df, group_columns, PRICE_COL)\n",
    "sellin_df = pp.generate_lag_feature(sellin_df, group_columns, TARGET_COL, LAGS + COMMON_LAGS)\n",
    "sellin_df = pp.generate_roll_feature(sellin_df, group_columns, TARGET_COL, ROLL_WINDOWS, ROLL_LAGS)\n",
    "sellin_df = pp.generate_ewm_feature(sellin_df, group_columns, TARGET_COL, EWM_ALPHAS, EWM_LAGS)\n",
    "sellin_df = pp.generate_target_encoding_feature(sellin_df, TARGET_COL, ENC_COLS)\n",
    "\n",
    "sellin_df.to_csv(f'{processed_data_dir}features_data.csv', index=False, header=True)"
   ]
  },
  {
   "cell_type": "code",
   "execution_count": 7,
   "metadata": {},
   "outputs": [
    {
     "data": {
      "text/html": [
       "<div>\n",
       "<style scoped>\n",
       "    .dataframe tbody tr th:only-of-type {\n",
       "        vertical-align: middle;\n",
       "    }\n",
       "\n",
       "    .dataframe tbody tr th {\n",
       "        vertical-align: top;\n",
       "    }\n",
       "\n",
       "    .dataframe thead th {\n",
       "        text-align: right;\n",
       "    }\n",
       "</style>\n",
       "<table border=\"1\" class=\"dataframe\">\n",
       "  <thead>\n",
       "    <tr style=\"text-align: right;\">\n",
       "      <th></th>\n",
       "      <th>item</th>\n",
       "      <th>department</th>\n",
       "      <th>date</th>\n",
       "      <th>is_holiday</th>\n",
       "      <th>is_offline</th>\n",
       "      <th>year</th>\n",
       "      <th>week_of_year</th>\n",
       "      <th>qty</th>\n",
       "      <th>release</th>\n",
       "      <th>qty_lag_4</th>\n",
       "      <th>...</th>\n",
       "      <th>qty_ewm_lag_52_alpha_08</th>\n",
       "      <th>qty_ewm_lag_52_alpha_05</th>\n",
       "      <th>qty_ewm_lag_52_alpha_02</th>\n",
       "      <th>qty_ewm_lag_52_alpha_01</th>\n",
       "      <th>enc_item_mean</th>\n",
       "      <th>enc_item_std</th>\n",
       "      <th>enc_department_mean</th>\n",
       "      <th>enc_department_std</th>\n",
       "      <th>enc_item_department_mean</th>\n",
       "      <th>enc_item_department_std</th>\n",
       "    </tr>\n",
       "  </thead>\n",
       "  <tbody>\n",
       "  </tbody>\n",
       "</table>\n",
       "<p>0 rows × 209 columns</p>\n",
       "</div>"
      ],
      "text/plain": [
       "Empty DataFrame\n",
       "Columns: [item, department, date, is_holiday, is_offline, year, week_of_year, qty, release, qty_lag_4, qty_lag_5, qty_lag_6, qty_lag_7, qty_lag_8, qty_lag_9, qty_lag_10, qty_lag_11, qty_lag_12, qty_lag_13, qty_lag_14, qty_lag_15, qty_lag_16, qty_lag_17, qty_lag_18, qty_lag_19, qty_lag_20, qty_lag_21, qty_lag_22, qty_lag_23, qty_lag_24, qty_lag_26, qty_lag_39, qty_lag_52, qty_lag_78, qty_lag_104, qty_roll_mean_lag_4_win_4, qty_roll_std_lag_4_win_4, qty_roll_mean_lag_4_win_8, qty_roll_std_lag_4_win_8, qty_roll_mean_lag_4_win_12, qty_roll_std_lag_4_win_12, qty_roll_mean_lag_4_win_16, qty_roll_std_lag_4_win_16, qty_roll_mean_lag_4_win_26, qty_roll_std_lag_4_win_26, qty_roll_mean_lag_4_win_39, qty_roll_std_lag_4_win_39, qty_roll_mean_lag_4_win_52, qty_roll_std_lag_4_win_52, qty_roll_mean_lag_8_win_4, qty_roll_std_lag_8_win_4, qty_roll_mean_lag_8_win_8, qty_roll_std_lag_8_win_8, qty_roll_mean_lag_8_win_12, qty_roll_std_lag_8_win_12, qty_roll_mean_lag_8_win_16, qty_roll_std_lag_8_win_16, qty_roll_mean_lag_8_win_26, qty_roll_std_lag_8_win_26, qty_roll_mean_lag_8_win_39, qty_roll_std_lag_8_win_39, qty_roll_mean_lag_8_win_52, qty_roll_std_lag_8_win_52, qty_roll_mean_lag_12_win_4, qty_roll_std_lag_12_win_4, qty_roll_mean_lag_12_win_8, qty_roll_std_lag_12_win_8, qty_roll_mean_lag_12_win_12, qty_roll_std_lag_12_win_12, qty_roll_mean_lag_12_win_16, qty_roll_std_lag_12_win_16, qty_roll_mean_lag_12_win_26, qty_roll_std_lag_12_win_26, qty_roll_mean_lag_12_win_39, qty_roll_std_lag_12_win_39, qty_roll_mean_lag_12_win_52, qty_roll_std_lag_12_win_52, qty_roll_mean_lag_16_win_4, qty_roll_std_lag_16_win_4, qty_roll_mean_lag_16_win_8, qty_roll_std_lag_16_win_8, qty_roll_mean_lag_16_win_12, qty_roll_std_lag_16_win_12, qty_roll_mean_lag_16_win_16, qty_roll_std_lag_16_win_16, qty_roll_mean_lag_16_win_26, qty_roll_std_lag_16_win_26, qty_roll_mean_lag_16_win_39, qty_roll_std_lag_16_win_39, qty_roll_mean_lag_16_win_52, qty_roll_std_lag_16_win_52, qty_roll_mean_lag_20_win_4, qty_roll_std_lag_20_win_4, qty_roll_mean_lag_20_win_8, qty_roll_std_lag_20_win_8, qty_roll_mean_lag_20_win_12, qty_roll_std_lag_20_win_12, qty_roll_mean_lag_20_win_16, qty_roll_std_lag_20_win_16, qty_roll_mean_lag_20_win_26, ...]\n",
       "Index: []\n",
       "\n",
       "[0 rows x 209 columns]"
      ]
     },
     "execution_count": 7,
     "metadata": {},
     "output_type": "execute_result"
    }
   ],
   "source": [
    "sellin_df[sellin_df['qty']<0]"
   ]
  }
 ],
 "metadata": {
  "kernelspec": {
   "display_name": "Python 3",
   "language": "python",
   "name": "python3"
  },
  "language_info": {
   "codemirror_mode": {
    "name": "ipython",
    "version": 3
   },
   "file_extension": ".py",
   "mimetype": "text/x-python",
   "name": "python",
   "nbconvert_exporter": "python",
   "pygments_lexer": "ipython3",
   "version": "3.10.11"
  }
 },
 "nbformat": 4,
 "nbformat_minor": 2
}
