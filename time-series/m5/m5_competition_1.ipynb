{
 "cells": [
  {
   "cell_type": "code",
   "execution_count": 1,
   "metadata": {},
   "outputs": [],
   "source": [
    "import numpy as np\n",
    "import pandas as pd\n",
    "import os, gc, datetime, pickle, warnings\n",
    "\n",
    "from ydata_profiling import ProfileReport\n",
    "\n",
    "from utils import *\n",
    "from processts import *\n",
    "\n",
    "\n",
    "warnings.filterwarnings('ignore')"
   ]
  },
  {
   "cell_type": "markdown",
   "metadata": {},
   "source": [
    "# Step 1"
   ]
  },
  {
   "cell_type": "code",
   "execution_count": 2,
   "metadata": {},
   "outputs": [],
   "source": [
    "dir_ = 'D:/Github/knowledge/time-series/data/m5/'\n",
    "\n",
    "raw_data_dir = dir_\n",
    "processed_data_dir = dir_+'processed/'\n",
    "\n",
    "os.makedirs(raw_data_dir, exist_ok=True)\n",
    "os.makedirs(processed_data_dir, exist_ok=True)"
   ]
  },
  {
   "cell_type": "code",
   "execution_count": 3,
   "metadata": {},
   "outputs": [],
   "source": [
    "########################### Vars\n",
    "#################################################################################\n",
    "TARGET_COL = 'sales'         # Our main target\n",
    "\n",
    "index_columns = ['id','item_id','dept_id','cat_id','store_id','state_id']\n",
    "group_columns = ['store_id','item_id']"
   ]
  },
  {
   "cell_type": "code",
   "execution_count": null,
   "metadata": {},
   "outputs": [],
   "source": [
    "########################### Load Data\n",
    "#################################################################################\n",
    "print('Load Main Data')\n",
    "\n",
    "# Here are reafing all our data \n",
    "# without any limitations and dtype modification\n",
    "train_df = pd.read_csv(raw_data_dir+'sales_train_validation.csv')\n",
    "prices_df = pd.read_csv(raw_data_dir+'sell_prices.csv')\n",
    "calendar_df = pd.read_csv(raw_data_dir+'calendar.csv')"
   ]
  },
  {
   "cell_type": "code",
   "execution_count": 5,
   "metadata": {},
   "outputs": [],
   "source": [
    "pp = PreProcessing('m5_log','D:/Github/knowledge/time-series/data/logs')"
   ]
  },
  {
   "cell_type": "code",
   "execution_count": 6,
   "metadata": {},
   "outputs": [],
   "source": [
    "train_df = pd.melt(train_df, \n",
    "                  id_vars = index_columns, \n",
    "                  var_name = 'd', \n",
    "                  value_name = TARGET_COL)\n",
    "\n",
    "train_df = pp.generate_grid_category(train_df, index_columns)\n",
    "train_df['d'] = train_df['d'].str[2:].astype(int)\n",
    "\n",
    "prices_df = pp.generate_grid_category(prices_df, group_columns)"
   ]
  },
  {
   "cell_type": "code",
   "execution_count": 7,
   "metadata": {},
   "outputs": [],
   "source": [
    "release_df = prices_df.groupby(group_columns)['wm_yr_wk'].agg(['min']).reset_index()\n",
    "release_df.columns = group_columns + ['release']\n",
    "train_df = Util.merge_by_concat(train_df, release_df, group_columns)\n",
    "del release_df\n",
    "\n",
    "calendar_df['d'] = calendar_df['d'].str[2:].astype(int)\n",
    "\n",
    "icols = ['event_name_1',\n",
    "         'event_type_1',\n",
    "         'event_name_2',\n",
    "         'event_type_2',\n",
    "         'snap_CA',\n",
    "         'snap_TX',\n",
    "         'snap_WI']\n",
    "calendar_df = pp.generate_grid_category(calendar_df, icols)\n",
    "calendar_columns = [c for c in calendar_df.columns.to_list() if c not in ['weekday', 'wday']]\n",
    "train_df = Util.merge_by_concat(train_df, calendar_df[calendar_columns], ['d'])\n",
    "\n",
    "train_df = train_df[train_df['wm_yr_wk']>=train_df['release']]\n",
    "train_df = train_df.reset_index(drop=True)\n",
    "train_df['release'] = train_df['release'] - train_df['release'].min()\n",
    "train_df['release'] = train_df['release'].astype(np.int16)\n",
    "\n",
    "train_df = Util.merge_by_concat(train_df, prices_df, group_columns + ['wm_yr_wk'])"
   ]
  },
  {
   "cell_type": "code",
   "execution_count": null,
   "metadata": {},
   "outputs": [],
   "source": [
    "train_df = Util.reduce_mem_usage(train_df, True)\n",
    "train_df.info()"
   ]
  },
  {
   "cell_type": "code",
   "execution_count": 9,
   "metadata": {},
   "outputs": [],
   "source": [
    "# train_df['sell_price'] = train_df['sell_price'].astype(np.float32)\n",
    "# ProfileReport(train_df, title=\"Profiling Train Report\").to_widgets()"
   ]
  },
  {
   "cell_type": "code",
   "execution_count": 10,
   "metadata": {},
   "outputs": [],
   "source": [
    "train_df.to_parquet(f'{processed_data_dir}init_data.parquet')"
   ]
  }
 ],
 "metadata": {
  "kernelspec": {
   "display_name": "Python 3",
   "language": "python",
   "name": "python3"
  },
  "language_info": {
   "codemirror_mode": {
    "name": "ipython",
    "version": 3
   },
   "file_extension": ".py",
   "mimetype": "text/x-python",
   "name": "python",
   "nbconvert_exporter": "python",
   "pygments_lexer": "ipython3",
   "version": "3.10.11"
  }
 },
 "nbformat": 4,
 "nbformat_minor": 2
}
