{
 "cells": [
  {
   "cell_type": "code",
   "execution_count": 1,
   "metadata": {},
   "outputs": [],
   "source": [
    "import numpy as np\n",
    "import pandas as pd\n",
    "import os, gc, datetime, pickle, warnings\n",
    "\n",
    "from utils import *\n",
    "\n",
    "\n",
    "warnings.filterwarnings('ignore')"
   ]
  },
  {
   "cell_type": "markdown",
   "metadata": {},
   "source": [
    "# Step 3"
   ]
  },
  {
   "cell_type": "code",
   "execution_count": 2,
   "metadata": {},
   "outputs": [],
   "source": [
    "dir_ = 'D:/Github/knowledge/time-series/data/m5/'\n",
    "\n",
    "raw_data_dir = dir_\n",
    "processed_data_dir = dir_+'processed/'\n",
    "\n",
    "os.makedirs(raw_data_dir, exist_ok=True)\n",
    "os.makedirs(processed_data_dir, exist_ok=True)"
   ]
  },
  {
   "cell_type": "code",
   "execution_count": 3,
   "metadata": {},
   "outputs": [],
   "source": [
    "########################### Vars ###########################\n",
    "SEED = 42\n",
    "TARGET_COL = 'sales'         # Our main target\n",
    "P_HORIZON = 28\n",
    "START_TRAIN = 0\n",
    "END_TRAIN = 1913         # Last day in train set\n",
    "MAIN_INDEX_COLS = ['id','d']  # We can identify item by these columns\n",
    "DATE_COL = 'date'\n",
    "\n",
    "index_columns = ['id','item_id','dept_id','cat_id','store_id','state_id']\n",
    "group_columns = ['store_id','item_id']"
   ]
  },
  {
   "cell_type": "code",
   "execution_count": 4,
   "metadata": {},
   "outputs": [],
   "source": [
    "# df = pd.read_parquet(f'{processed_data_dir}init_data.parquet')\n",
    "df = pd.read_parquet(f'{processed_data_dir}features_data_CA_1.parquet')\n",
    "df = df[df['dept_id']=='HOBBIES_1']"
   ]
  },
  {
   "cell_type": "code",
   "execution_count": 5,
   "metadata": {},
   "outputs": [],
   "source": [
    "remove_features = [\n",
    "    'id',\n",
    "    'store_id',\n",
    "    'state_id',\n",
    "    'd',\n",
    "    'date',\n",
    "    'wm_yr_wk',\n",
    "] + [TARGET_COL]"
   ]
  },
  {
   "cell_type": "code",
   "execution_count": 6,
   "metadata": {},
   "outputs": [],
   "source": [
    "CUT_OFF = END_TRAIN - 28\n",
    "features = ['date'] + [c for c in df.columns if c not in remove_features]"
   ]
  },
  {
   "cell_type": "code",
   "execution_count": 7,
   "metadata": {},
   "outputs": [],
   "source": [
    "idx_train, idx_test =(df['d']>=START_TRAIN) & (df['d']<=CUT_OFF), (df['d']>CUT_OFF) & (df['d']<=END_TRAIN)\n",
    "X, y = df[features], df[TARGET_COL]\n",
    "X_train, y_train = X[idx_train], y[idx_train]\n",
    "X_test, y_test = X[idx_test], y[idx_test]\n",
    "\n",
    "del df"
   ]
  },
  {
   "cell_type": "code",
   "execution_count": 8,
   "metadata": {},
   "outputs": [],
   "source": [
    "# from lazypredict.Supervised import LazyRegressor\n",
    "\n",
    "# reg = LazyRegressor(verbose=0, ignore_warnings=False, custom_metric=None)\n",
    "# models, predictions = reg.fit(X_train, X_test, y_train, y_test)\n",
    "\n",
    "# models.sort_values(by='RMSE')"
   ]
  },
  {
   "cell_type": "code",
   "execution_count": 10,
   "metadata": {},
   "outputs": [],
   "source": [
    "# from flaml import AutoML\n",
    "\n",
    "# automl = AutoML()\n",
    "# automl.fit(\n",
    "#     X_train=X_train,  # a single column of timestamp\n",
    "#     y_train=y_train,  # value for each timestamp\n",
    "#     period=28,  # time horizon to forecast, e.g., 12 months\n",
    "#     task=\"ts_forecast_regression\",\n",
    "#     time_budget=120,  # time budget in seconds\n",
    "#     metric ='rmse',\n",
    "#     log_file_name=\"ts_forecast.log\",\n",
    "#     eval_method=\"holdout\",\n",
    "#     log_type='all',\n",
    "#     # use_spark=True,\n",
    "#     skip_transform=True,\n",
    "#     estimator_list=['lgbm'],\n",
    "#     # n_jobs=-1,\n",
    "# )\n",
    "# # print(automl.predict(X_test))\n",
    "\n",
    "# y_pred = automl.predict(X_test)\n",
    "\n",
    "# from sklearn.metrics import root_mean_squared_error\n",
    "\n",
    "# print(root_mean_squared_error(y_test,y_pred))"
   ]
  },
  {
   "cell_type": "code",
   "execution_count": 17,
   "metadata": {},
   "outputs": [],
   "source": []
  },
  {
   "cell_type": "code",
   "execution_count": null,
   "metadata": {},
   "outputs": [],
   "source": []
  }
 ],
 "metadata": {
  "kernelspec": {
   "display_name": "Python 3",
   "language": "python",
   "name": "python3"
  },
  "language_info": {
   "codemirror_mode": {
    "name": "ipython",
    "version": 3
   },
   "file_extension": ".py",
   "mimetype": "text/x-python",
   "name": "python",
   "nbconvert_exporter": "python",
   "pygments_lexer": "ipython3",
   "version": "3.10.11"
  }
 },
 "nbformat": 4,
 "nbformat_minor": 2
}
