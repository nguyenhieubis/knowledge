{
 "cells": [
  {
   "cell_type": "code",
   "execution_count": 1,
   "metadata": {},
   "outputs": [],
   "source": [
    "import numpy as np\n",
    "import pandas as pd\n",
    "import os, gc, datetime, pickle, warnings\n",
    "\n",
    "from utils import *\n",
    "from processts import *\n",
    "\n",
    "\n",
    "warnings.filterwarnings('ignore')"
   ]
  },
  {
   "cell_type": "markdown",
   "metadata": {},
   "source": [
    "# Step 2"
   ]
  },
  {
   "cell_type": "code",
   "execution_count": 2,
   "metadata": {},
   "outputs": [],
   "source": [
    "dir_ = 'D:/Github/knowledge/time-series/data/m5/'\n",
    "\n",
    "raw_data_dir = dir_\n",
    "processed_data_dir = dir_+'processed/'\n",
    "\n",
    "os.makedirs(raw_data_dir, exist_ok=True)\n",
    "os.makedirs(processed_data_dir, exist_ok=True)"
   ]
  },
  {
   "cell_type": "code",
   "execution_count": 3,
   "metadata": {},
   "outputs": [],
   "source": [
    "########################### Vars\n",
    "#################################################################################\n",
    "TARGET_COL = 'sales'         # Our main target\n",
    "DATE_COL = 'date'\n",
    "PRICE_COL = 'sell_price'\n",
    "\n",
    "group_columns = ['store_id','item_id']\n",
    "\n",
    "LAGS = list(range(7,57)) + [60,90,182,364]\n",
    "ROLL_LAGS = [7,14,21,28,35,42,49,56,60,90,182,364]\n",
    "ROLL_WINDOWS = [7,14,21,28,60,90,182,364]\n",
    "EWM_LAGS = [7,14,21,28,35,42,49,56,60,90,182,364]\n",
    "EWM_ALPHAS = [0.99, 0.95, 0.9, 0.8, 0.5, 0.2, 0.1]\n",
    "ENC_COLS = [\n",
    "    ['cat_id'],\n",
    "    ['dept_id'],\n",
    "    ['item_id'],\n",
    "    ['store_id', 'cat_id'],\n",
    "    ['store_id', 'dept_id'],\n",
    "    ['store_id', 'item_id']\n",
    "]"
   ]
  },
  {
   "cell_type": "code",
   "execution_count": 4,
   "metadata": {},
   "outputs": [
    {
     "name": "stderr",
     "output_type": "stream",
     "text": [
      "2024-09-26 10:28:08,097\tINFO\tgenerate_grid_date\n",
      "2024-09-26 10:28:09,879\tINFO\tgenerate_grid_price\n"
     ]
    },
    {
     "name": "stdout",
     "output_type": "stream",
     "text": [
      "Mem. usage decreased to 213.02 MB (50.4% reduction)\n"
     ]
    },
    {
     "name": "stderr",
     "output_type": "stream",
     "text": [
      "2024-09-26 10:28:13,237\tINFO\tgenerate lag features\n"
     ]
    },
    {
     "name": "stdout",
     "output_type": "stream",
     "text": [
      "Mem. usage decreased to 335.30 MB (34.8% reduction)\n"
     ]
    },
    {
     "name": "stderr",
     "output_type": "stream",
     "text": [
      "2024-09-26 10:28:20,730\tINFO\tgenerate roll features\n",
      "2024-09-26 10:28:20,730\tINFO\tShifting period: 7\n"
     ]
    },
    {
     "name": "stdout",
     "output_type": "stream",
     "text": [
      "Mem. usage decreased to 843.21 MB (64.4% reduction)\n"
     ]
    },
    {
     "name": "stderr",
     "output_type": "stream",
     "text": [
      "2024-09-26 10:28:46,914\tINFO\tShifting period: 14\n",
      "2024-09-26 10:29:13,815\tINFO\tShifting period: 21\n",
      "2024-09-26 10:29:40,158\tINFO\tShifting period: 28\n",
      "2024-09-26 10:30:09,092\tINFO\tShifting period: 35\n",
      "2024-09-26 10:30:37,096\tINFO\tShifting period: 42\n",
      "2024-09-26 10:31:06,866\tINFO\tShifting period: 49\n",
      "2024-09-26 10:31:37,441\tINFO\tShifting period: 56\n",
      "2024-09-26 10:32:08,854\tINFO\tShifting period: 60\n",
      "2024-09-26 10:32:42,916\tINFO\tShifting period: 90\n",
      "2024-09-26 10:33:11,562\tINFO\tShifting period: 182\n",
      "2024-09-26 10:33:40,266\tINFO\tShifting period: 364\n",
      "2024-09-26 10:34:36,850\tINFO\tgenerate exponentially weighted moving features\n",
      "2024-09-26 10:34:36,851\tINFO\tShifting period:7\n"
     ]
    },
    {
     "name": "stdout",
     "output_type": "stream",
     "text": [
      "Mem. usage decreased to 2649.12 MB (67.2% reduction)\n"
     ]
    },
    {
     "name": "stderr",
     "output_type": "stream",
     "text": [
      "2024-09-26 10:34:45,762\tINFO\tShifting period:14\n",
      "2024-09-26 10:34:54,408\tINFO\tShifting period:21\n",
      "2024-09-26 10:35:03,225\tINFO\tShifting period:28\n",
      "2024-09-26 10:35:12,052\tINFO\tShifting period:35\n",
      "2024-09-26 10:35:20,924\tINFO\tShifting period:42\n",
      "2024-09-26 10:35:29,777\tINFO\tShifting period:49\n",
      "2024-09-26 10:35:38,690\tINFO\tShifting period:56\n",
      "2024-09-26 10:35:47,505\tINFO\tShifting period:60\n",
      "2024-09-26 10:35:57,720\tINFO\tShifting period:90\n",
      "2024-09-26 10:36:09,159\tINFO\tShifting period:182\n",
      "2024-09-26 10:36:20,755\tINFO\tShifting period:364\n",
      "2024-09-26 10:37:01,053\tINFO\tgenerate target encoding feature\n",
      "2024-09-26 10:37:01,054\tINFO\tencoding\t['cat_id']\n"
     ]
    },
    {
     "name": "stdout",
     "output_type": "stream",
     "text": [
      "Mem. usage decreased to 3439.21 MB (40.8% reduction)\n"
     ]
    },
    {
     "name": "stderr",
     "output_type": "stream",
     "text": [
      "2024-09-26 10:37:01,272\tINFO\tencoding\t['dept_id']\n",
      "2024-09-26 10:37:01,494\tINFO\tencoding\t['item_id']\n",
      "2024-09-26 10:37:01,708\tINFO\tencoding\t['store_id', 'cat_id']\n",
      "2024-09-26 10:37:02,193\tINFO\tencoding\t['store_id', 'dept_id']\n",
      "2024-09-26 10:37:02,747\tINFO\tencoding\t['store_id', 'item_id']\n"
     ]
    },
    {
     "name": "stdout",
     "output_type": "stream",
     "text": [
      "Mem. usage decreased to 3552.08 MB (8.7% reduction)\n"
     ]
    }
   ],
   "source": [
    "pp = PreProcessing('m5_log','D:/Github/knowledge/time-series/data/logs')\n",
    "df = pd.read_parquet(f'{processed_data_dir}init_data.parquet')\n",
    "df = df[df['store_id']=='CA_1'].reset_index(drop=True)\n",
    "\n",
    "df = pp.generate_grid_date(df, DATE_COL)\n",
    "df = pp.generate_grid_price(df, group_columns, PRICE_COL)\n",
    "df = pp.generate_lag_feature(df, group_columns, TARGET_COL, LAGS)\n",
    "df = pp.generate_roll_feature(df, group_columns, TARGET_COL, ROLL_WINDOWS, ROLL_LAGS)\n",
    "df = pp.generate_ewm_feature(df, group_columns, TARGET_COL, EWM_ALPHAS, EWM_LAGS)\n",
    "df = pp.generate_target_encoding_feature(df, TARGET_COL, ENC_COLS)\n",
    "\n",
    "df.to_parquet(f'{processed_data_dir}features_data_CA_1.parquet')"
   ]
  }
 ],
 "metadata": {
  "kernelspec": {
   "display_name": "Python 3",
   "language": "python",
   "name": "python3"
  },
  "language_info": {
   "codemirror_mode": {
    "name": "ipython",
    "version": 3
   },
   "file_extension": ".py",
   "mimetype": "text/x-python",
   "name": "python",
   "nbconvert_exporter": "python",
   "pygments_lexer": "ipython3",
   "version": "3.10.11"
  }
 },
 "nbformat": 4,
 "nbformat_minor": 2
}
