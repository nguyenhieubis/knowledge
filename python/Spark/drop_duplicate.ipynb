{
 "cells": [
  {
   "cell_type": "code",
   "execution_count": 1,
   "metadata": {},
   "outputs": [],
   "source": [
    "from pyspark.sql import SparkSession\n",
    "\n",
    "spark = SparkSession \\\n",
    "    .builder \\\n",
    "    .master(\"local[*]\") \\\n",
    "    .appName(\"Python Spark SQL basic example\") \\\n",
    "    .getOrCreate()"
   ]
  },
  {
   "cell_type": "code",
   "execution_count": 2,
   "metadata": {},
   "outputs": [
    {
     "data": {
      "text/plain": [
       "16"
      ]
     },
     "execution_count": 2,
     "metadata": {},
     "output_type": "execute_result"
    }
   ],
   "source": [
    "spark.sparkContext.defaultParallelism"
   ]
  },
  {
   "cell_type": "code",
   "execution_count": 3,
   "metadata": {},
   "outputs": [],
   "source": [
    "# spark.conf.set(\"spark.sql.adaptive.enabled\", \"False\")\n",
    "# spark.conf.set(\"spark.sql.adaptive.coalescePartitions\", \"False\")"
   ]
  },
  {
   "cell_type": "code",
   "execution_count": 4,
   "metadata": {},
   "outputs": [
    {
     "name": "stdout",
     "output_type": "stream",
     "text": [
      "            id update_date\n",
      "0            0  2025-01-01\n",
      "1            1  2025-01-01\n",
      "2            2  2025-01-01\n",
      "3            3  2025-01-01\n",
      "4            4  2025-01-01\n",
      "...        ...         ...\n",
      "999995  999995  2025-03-01\n",
      "999996  999996  2025-03-01\n",
      "999997  999997  2025-03-01\n",
      "999998  999998  2025-03-01\n",
      "999999  999999  2025-03-01\n",
      "\n",
      "[3000000 rows x 2 columns]\n"
     ]
    }
   ],
   "source": [
    "import pandas as pd\n",
    "pd.DataFrame.iteritems = pd.DataFrame.items\n",
    "\n",
    "# generating some example data with pandas, will convert to spark df below\n",
    "df1 = pd.DataFrame({'id':range(0,10*10**5)})\n",
    "df1['update_date'] = '2025-01-01'\n",
    "df2 = pd.DataFrame({'id':range(0,10*10**5)})\n",
    "df2['update_date'] = '2025-02-01'\n",
    "df3 = pd.DataFrame({'id':range(0,10*10**5)})\n",
    "df3['update_date'] = '2025-03-01'\n",
    "dfall = pd.concat([df1,df2,df3])\n",
    "print(dfall)"
   ]
  },
  {
   "cell_type": "code",
   "execution_count": 5,
   "metadata": {},
   "outputs": [
    {
     "data": {
      "text/plain": [
       "16"
      ]
     },
     "execution_count": 5,
     "metadata": {},
     "output_type": "execute_result"
    }
   ],
   "source": [
    "df = spark.createDataFrame(dfall)\n",
    "\n",
    "# df.cache()\n",
    "\n",
    "df.rdd.getNumPartitions()"
   ]
  },
  {
   "cell_type": "code",
   "execution_count": 6,
   "metadata": {},
   "outputs": [
    {
     "data": {
      "text/plain": [
       "962582"
      ]
     },
     "execution_count": 6,
     "metadata": {},
     "output_type": "execute_result"
    }
   ],
   "source": [
    "df.orderBy(\"update_date\")\\\n",
    "  .dropDuplicates(subset = [\"id\"])\\\n",
    "  .filter(\"update_date == '2025-01-01'\")\\\n",
    "  .count()\n",
    "# 962582"
   ]
  },
  {
   "cell_type": "code",
   "execution_count": 9,
   "metadata": {},
   "outputs": [
    {
     "data": {
      "text/plain": [
       "1000000"
      ]
     },
     "execution_count": 9,
     "metadata": {},
     "output_type": "execute_result"
    }
   ],
   "source": [
    "df.orderBy(\"update_date\")\\\n",
    "  .coalesce(1)\\\n",
    "  .dropDuplicates(subset = [\"id\"])\\\n",
    "  .filter(\"update_date == '2025-01-01'\")\\\n",
    "  .count()"
   ]
  },
  {
   "cell_type": "code",
   "execution_count": 14,
   "metadata": {},
   "outputs": [
    {
     "name": "stdout",
     "output_type": "stream",
     "text": [
      "Set(EZALOR:55859)\n",
      "0\n"
     ]
    }
   ],
   "source": [
    "sc = spark._jsc.sc() \n",
    "\n",
    "result1 = sc.getExecutorMemoryStatus().keys() # will print all the executors + driver available\n",
    "\n",
    "result2 = len([executor.host() for executor in sc.statusTracker().getExecutorInfos() ]) -1\n",
    "\n",
    "print(result1, end ='\\n')\n",
    "print(result2)"
   ]
  },
  {
   "cell_type": "code",
   "execution_count": 13,
   "metadata": {},
   "outputs": [
    {
     "name": "stdout",
     "output_type": "stream",
     "text": [
      "0\n"
     ]
    }
   ],
   "source": [
    "sc2 = spark._jsc.sc()\n",
    "number_of_workers = len([executor.host() for executor in sc2.statusTracker().getExecutorInfos()])-1\n",
    "print(number_of_workers)"
   ]
  }
 ],
 "metadata": {
  "kernelspec": {
   "display_name": "Python 3",
   "language": "python",
   "name": "python3"
  },
  "language_info": {
   "codemirror_mode": {
    "name": "ipython",
    "version": 3
   },
   "file_extension": ".py",
   "mimetype": "text/x-python",
   "name": "python",
   "nbconvert_exporter": "python",
   "pygments_lexer": "ipython3",
   "version": "3.10.11"
  }
 },
 "nbformat": 4,
 "nbformat_minor": 2
}
