{
 "cells": [
  {
   "cell_type": "code",
   "execution_count": 21,
   "metadata": {},
   "outputs": [
    {
     "name": "stdout",
     "output_type": "stream",
     "text": [
      "Lê Thánh Tôn, Phường Bến Thành, Quận 1, Thành phố Hồ Chí Minh, 71009, Việt Nam\n"
     ]
    }
   ],
   "source": [
    "from geopy.geocoders import Nominatim, GoogleV3\n",
    "\n",
    "# Khởi tạo geocoder Nominatim\n",
    "geolocator = Nominatim(user_agent=\"geopy_example\")\n",
    "\n",
    "def geocode_address(address):\n",
    "    location = geolocator.geocode(address, language=\"vi\")\n",
    "    if location:\n",
    "        return location#.raw['address']\n",
    "    return None\n",
    "\n",
    "# Thử nghiệm với địa chỉ\n",
    "address = \"Số 123 Đường Lê Lợi, Phường 1, Quận 1, TP Hồ Chí Minh\"\n",
    "components = geocode_address(address)\n",
    "print(components)\n"
   ]
  },
  {
   "cell_type": "code",
   "execution_count": 22,
   "metadata": {},
   "outputs": [
    {
     "data": {
      "text/plain": [
       "{'place_id': 238163409,\n",
       " 'licence': 'Data © OpenStreetMap contributors, ODbL 1.0. http://osm.org/copyright',\n",
       " 'osm_type': 'way',\n",
       " 'osm_id': 724391096,\n",
       " 'lat': '10.7714292',\n",
       " 'lon': '106.6949809',\n",
       " 'class': 'highway',\n",
       " 'type': 'tertiary',\n",
       " 'place_rank': 26,\n",
       " 'importance': 0.05340036697947658,\n",
       " 'addresstype': 'road',\n",
       " 'name': 'Lê Thánh Tôn',\n",
       " 'display_name': 'Lê Thánh Tôn, Phường Bến Thành, Quận 1, Thành phố Hồ Chí Minh, 71009, Việt Nam',\n",
       " 'boundingbox': ['10.7712673', '10.7716294', '106.6947554', '106.6952704']}"
      ]
     },
     "execution_count": 22,
     "metadata": {},
     "output_type": "execute_result"
    }
   ],
   "source": [
    "components.raw"
   ]
  }
 ],
 "metadata": {
  "kernelspec": {
   "display_name": "Python 3",
   "language": "python",
   "name": "python3"
  },
  "language_info": {
   "codemirror_mode": {
    "name": "ipython",
    "version": 3
   },
   "file_extension": ".py",
   "mimetype": "text/x-python",
   "name": "python",
   "nbconvert_exporter": "python",
   "pygments_lexer": "ipython3",
   "version": "3.10.11"
  }
 },
 "nbformat": 4,
 "nbformat_minor": 2
}
